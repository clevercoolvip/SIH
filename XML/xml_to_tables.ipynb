{
 "cells": [
  {
   "cell_type": "code",
   "execution_count": 1,
   "id": "ffe02ed3",
   "metadata": {},
   "outputs": [],
   "source": [
    "def xml2tables(path):\n",
    "    import xml.etree.ElementTree as ET\n",
    "    import pandas as pd\n",
    "    tree = ET.parse(data)\n",
    "    key = []\n",
    "    value = []\n",
    "    for i in tree.iter():\n",
    "        print(str(i))\n",
    "        key.append(str(i).split(\"'\")[1])\n",
    "        print(i.text)\n",
    "        value.append(i.text)\n",
    "        print(\"*\"*120)\n",
    "    df = pd.DataFrame({\"Key\":key, \"Values\":value})\n",
    "    df2 = df[df[\"Values\"]!=\"\\n\"]\n",
    "    return df2"
   ]
  },
  {
   "cell_type": "code",
   "execution_count": null,
   "id": "4e53c097",
   "metadata": {},
   "outputs": [],
   "source": []
  }
 ],
 "metadata": {
  "kernelspec": {
   "display_name": "Python 3 (ipykernel)",
   "language": "python",
   "name": "python3"
  },
  "language_info": {
   "codemirror_mode": {
    "name": "ipython",
    "version": 3
   },
   "file_extension": ".py",
   "mimetype": "text/x-python",
   "name": "python",
   "nbconvert_exporter": "python",
   "pygments_lexer": "ipython3",
   "version": "3.9.12"
  }
 },
 "nbformat": 4,
 "nbformat_minor": 5
}
